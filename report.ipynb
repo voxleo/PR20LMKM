{
 "cells": [
  {
   "cell_type": "markdown",
   "metadata": {},
   "source": [
    "# Tehnčini pregledi motornih vozil v Sloveniji 2015-2019"
   ]
  },
  {
   "cell_type": "markdown",
   "metadata": {},
   "source": [
    "## Skupina\n",
    "* Leon Macur - 63180190\n",
    "* Kevin Mohar - 63180209"
   ]
  },
  {
   "cell_type": "markdown",
   "metadata": {},
   "source": [
    "## Podatki in analiza\n",
    "### Opis\n",
    "Za projetkno nalogo sva se odločila analizirati podatke o tehnčinih pregledih motornih vozil, ki so potekali v Sloveniji med leti 2015 - 2019. Z uporabo metod podatkovnega rudarjenja želiva ugotoviti, kako so se opravljeni pregledi čez leto razlikovali. Predvsem naju zanima, katere znamke, starost motornega vozila, gorivo, prevoženi kilometri in ostale specifikacije vpilavajo na uspešnost opravljenega tehničnega pregleda."
   ]
  },
  {
   "cell_type": "markdown",
   "metadata": {},
   "source": [
    "### Podatki\n",
    "Podatke sva pridobila iz strani \"OPSI: odprti podatki\" -> [rezultati tehničnega pregleda](https://podatki.gov.si/dataset/rezultati-tehnicnih-pregledov-motornih-vozil). Natančneje bova podatke črpala iz tekstovne datoteke \"Uspešnost TP 2019\" in csv datotek \"Uspešnost TP (2018, 2017, 2016, 2015)\". Datoteke imajo 25 atributov in vsebuje podatke o vozilu, regestraciji, lastniku ter rezultate o nepravilnostih, obremenitvah in ugotovitvah pregleda vozil v Sloveniji za leta 2015 - 2019."
   ]
  },
  {
   "cell_type": "markdown",
   "metadata": {},
   "source": [
    "### Analiza\n",
    "#### Zanesljivost vozil pri pravljanju tehničnega pregleda:\n",
    "Najprej naju je zanimalo katera znamka vozil je najmanj zanesljiva pri opravljanju tehničnega pregleda, kjer so bila vozila prvič registrirana vsaj 25 let nazaj. To sva storila tako, da sva najprej poiskala znamke vozil, ki so imele vsaj 1000 zapisov v tabeli. Nato sva za vsako posamezno znamko izračunala verjetnost uspeha pri opravljanju tehničnega pregleda. Na koncu sva izbrala 10 znamk z najmanjšo verjetnostjo uspeha ter jih prikazala z ustrezno vizualizacijo.\n",
    "\n",
    "![Viz1](imgs/viz1.gif)\n",
    "\n",
    "Ugotovila sva, da imata najmanjšo verjetnot opravljenga tehničnega pregleda znamki 'TAM' in 'Renault'. Kljub temu, da imata znamki najslabši rezultat je njuna verjetnost uspešno opravljenega pregleda še vedno višja od 0.8.\n",
    "\n",
    "[Koda in ostali grafi](Koda-vpr1.ipynb)"
   ]
  },
  {
   "cell_type": "markdown",
   "metadata": {},
   "source": [
    "#### Zanesljivost določenih vozil pri pravljanju tehničnega pregleda:\n",
    "Na podlagi rezultatov prejšne naloge sva naključno izbrala 5 znamk (Alfa Romeo, Chevrolet, Deawoo, Iveco, Renault) in preverila njihov uspeh opravljenega pregleda. Ugotovitve izbranih znamk sva za posamezno leto uredila po mesecih in prikazala z ustrezno vizualizacijo.\n",
    "\n",
    "![Viz2](imgs/viz2.gif)\n",
    "\n",
    "Iz vizualizacij sva ugotovila, da se uspešnost znamke Renault in Alfa Romeo čez leta ni spremenila, znamke Chevrolet poslabšala, Iveco in Deawoo pa skozi vsa leta ostajata najslabša.\n",
    "\n",
    "[Koda in ostali grafi](Koda-vpr1.ipynb)"
   ]
  },
  {
   "cell_type": "markdown",
   "metadata": {},
   "source": [
    "#### Vpliv izvajalne enote na uspešnost opravljenega tehničnega pregleda:\n",
    "Nato sva želela ugotoviti v kateri enoti je opravljanje tehničnega pregleda najuspešnejše. To sva storila tako, da sva za vsako posamezno enoto, v kateri je vsaj 100 vozil opravljalo tehnični pregled, izračunala verjetnost uspeha. Iz dobljenih rezultatov sva izbrala 3 najbolj in 3 najmanj uspešne enote, ter jih ustrezno vizualizirala.\n",
    "\n",
    "![Viz3](imgs/viz3.png)\n",
    "\n",
    "Kot lahko razvidimo iz grafa, imajo najboljše 3 enote praktično enako verjetnost opravljenega tehničnega pregleda. Prav tako so te verjetnosti zelo visoke. Pri najslabših treh pa lahko opazimo večjo razliko med verjetnostmi. Odsvetovala bi opravljanje tehničnega pregleda v \"Upravni enoti Kočevje\", saj je verjetnost uspeha le okoli 0.8.\n",
    "\n",
    "[Koda in ostali grafi](Koda-vpr2.ipynb)"
   ]
  },
  {
   "cell_type": "markdown",
   "metadata": {},
   "source": [
    "#### Razilka med verjetnostjo opravljenega pregleda glede na vrsto goriva:\n",
    "Prav tako naju je zanimalo kako se spreminja uspešnost opravljenega pregleda skozi leta glede na tip goriva. Podatke sva najprej razdelila po mesecih, nato pa za vsak mesec podatke razdelila na 4 skupine in sicer bencin, dizel, mešanica in plin. Za vsako skupino sva za pripadajoč mesec izračunala verjetnost uspešnega opravljanja tehničnega pregleda. Podatke sva nato prikazal z ustrezno vizalizacijo.\n",
    "\n",
    "![Viz4](imgs/viz4.gif)\n",
    "\n",
    "Iz grafov lahko razberemo, da imajo skupine čez leta konsistentno uspešnost opravljenega tehničnega pregleda. Vozila z hibridnim motorjem imajo največjo verjetnost, da opravijo tehnični pregled. Vozila z plinskim motorjem, pa najmanjšo. Ugotovila sva tudi, da je najboljši čas za opravljanje pregleda z vozilom na dizelski oziroma Bencinski pogon spomladi. Najslabši čas za pa je pozimi. Pri hibridnem in plinskem motorju pa ni opazna nobena odvisnost od letnega časa.\n",
    "\n",
    "[Koda in ostali grafi](Koda-vpr3.ipynb)"
   ]
  },
  {
   "cell_type": "markdown",
   "metadata": {},
   "source": [
    "#### Uspešnost opravljenega pregleda gleda na število prevoženih kilometrov osebnih vozil:\n",
    "Zanimala naju je ali ima število prevoženih kilometorv vpliv na uspešnost opravljanja pregleda pri osebnih vozilih. Število prevoženih kilometrov sva razdelila v šest skupin in sicer 0km - 99.999km, 100.000km - 199.999km, 200.000km - 399.999km, 400.000km - 499.999km, 500.000km <=. Podatke sva prikazala na dva načina. V prvem načinu sva prikazala število opravljenih in neopravljenih pregledov za posamezno skupino. V drugem načino pa sva prikzala verjetnost uspešno opravljenega pregleda.\n",
    "\n",
    "![Viz5](imgs/viz5.png)\n",
    "![Viz6](imgs/viz6.png)\n",
    "\n",
    "Ugotovila sva, da osebna vozila, ki opravljajo tehnični pregled najpogosteje prevozijo 100.000km - 199.999km. Takih, ki pa prevozijo 400.000km - 499.999km oziroma 500.000km <= pa je zelo malo. Ugotovila sva tudi, da z naraščanjem števila prevoženih kilometrov verjetnost uspešnega pregleda pada.\n",
    "\n",
    "[Koda in ostali grafi](Koda-vpr4.ipynb)"
   ]
  },
  {
   "cell_type": "markdown",
   "metadata": {},
   "source": [
    "#### Primerjava uspešnosti opravljenega pregleda glede na tip osebnih vozil:\n",
    "Na koncu sva želela ugotoviti še kakšen vpliv ima sam tip osebenga vozila na uspešnost opravljenega tehničnega pregleda. Izbrala sva osebna vozila tipa kabriolet, karvan, kupe in limuzina. Za vsako iz teh skupin sva izračunala verjetnost uspešno opravljenega pregleda in podatke prikazala z ustrezno vizualizacijo.\n",
    "\n",
    "![Viz7](imgs/viz7.gif)\n",
    "\n",
    "Iz prikazanih podatkov sva razbrala, da je bil skozi vsa leta najbolj uspešen tip osebnega vozila karavan. Najslabši tip skozi leta pa je bila limuzina. Tipa kabriolet in kupe pa imata skozi vsa leta enako uspešnost.\n",
    "\n",
    "[Koda in ostali grafi](Koda-vpr5.ipynb)"
   ]
  },
  {
   "cell_type": "markdown",
   "metadata": {},
   "source": [
    "## Zaključek\n",
    "Ugotovila sva da je večino vozil uspešno opravilo tehnične preglede, kar je razvidno tudi iz zgornjih rezultatov. Med pregledovanjem rezultatov sva ugotovila, da so razlike med prikazanimi podatki v velikih premih zelo majhne, čeprav so na vizualizacij prikazane kot velike razlike. Med izdelavo sam naloge sva naletela na nekaj težav pri branju podatkov iz datotek, saj so podatki v različnih datotekah zapisani v različno. Izdelava te projektne naloge pa je, razen teh težav z zapisi, potekala brez zapletov. "
   ]
  }
 ],
 "metadata": {
  "kernelspec": {
   "display_name": "Python 3",
   "language": "python",
   "name": "python3"
  },
  "language_info": {
   "codemirror_mode": {
    "name": "ipython",
    "version": 3
   },
   "file_extension": ".py",
   "mimetype": "text/x-python",
   "name": "python",
   "nbconvert_exporter": "python",
   "pygments_lexer": "ipython3",
   "version": "3.7.0"
  }
 },
 "nbformat": 4,
 "nbformat_minor": 4
}
